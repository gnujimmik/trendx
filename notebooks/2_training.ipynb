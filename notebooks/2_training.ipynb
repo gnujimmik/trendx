{
 "cells": [
  {
   "cell_type": "code",
   "execution_count": 1,
   "metadata": {
    "collapsed": true
   },
   "outputs": [],
   "source": [
    "import os\n",
    "import math\n",
    "import random\n",
    "import sys\n",
    "import time\n",
    "import numpy as np\n",
    "\n",
    "import tensorflow as tf\n",
    "\n",
    "from easy_seq2seq import data_utils, seq2seq_model"
   ]
  },
  {
   "cell_type": "code",
   "execution_count": 2,
   "metadata": {
    "collapsed": true
   },
   "outputs": [],
   "source": [
    "_buckets = [(5, 10), (10, 15), (20, 25), (40, 50)]"
   ]
  },
  {
   "cell_type": "code",
   "execution_count": 3,
   "metadata": {
    "collapsed": false
   },
   "outputs": [
    {
     "name": "stdout",
     "output_type": "stream",
     "text": [
      "새로운 폴더 ./working_dir가 생성되었습니다.\n"
     ]
    }
   ],
   "source": [
    "if not os.path.exists('./working_dir'):\n",
    "    os.makedirs('./working_dir')\n",
    "    \n",
    "print('새로운 폴더 ./working_dir가 생성되었습니다.')"
   ]
  },
  {
   "cell_type": "code",
   "execution_count": 4,
   "metadata": {
    "collapsed": false
   },
   "outputs": [
    {
     "name": "stdout",
     "output_type": "stream",
     "text": [
      "데이터 변환이 완성되었습니다.\n"
     ]
    }
   ],
   "source": [
    "enc_train, dec_train, enc_dev, dec_dev, _, _ = data_utils.prepare_custom_data('working_dir/',\n",
    "                                                                              'data/train.enc',\n",
    "                                                                              'data/train.dec',\n",
    "                                                                              'data/test.enc',\n",
    "                                                                              'data/test.dec',\n",
    "                                                                              20000,\n",
    "                                                                              20000)\n",
    "print('데이터 변환이 완성되었습니다.')"
   ]
  },
  {
   "cell_type": "code",
   "execution_count": 5,
   "metadata": {
    "collapsed": false
   },
   "outputs": [],
   "source": [
    "# 데이터 로딩\n",
    "def read_data(source_path, target_path, max_size=None):\n",
    "    data_set = [[] for _ in _buckets]\n",
    "    with tf.gfile.GFile(source_path, mode=\"r\") as source_file:\n",
    "        with tf.gfile.GFile(target_path, mode=\"r\") as target_file:\n",
    "            source, target = source_file.readline(), target_file.readline()\n",
    "            counter = 0\n",
    "            while source and target and (not max_size or counter < max_size):\n",
    "                counter += 1\n",
    "                if counter % 100000 == 0:\n",
    "                    print(\"  reading data line %d\" % counter)\n",
    "                    sys.stdout.flush()\n",
    "                source_ids = [int(x) for x in source.split()]\n",
    "                target_ids = [int(x) for x in target.split()]\n",
    "                target_ids.append(data_utils.EOS_ID)\n",
    "                for bucket_id, (source_size, target_size) in enumerate(_buckets):\n",
    "                    if len(source_ids) < source_size and len(target_ids) < target_size:\n",
    "                        data_set[bucket_id].append([source_ids, target_ids])\n",
    "                        break\n",
    "                source, target = source_file.readline(), target_file.readline()\n",
    "    return data_set"
   ]
  },
  {
   "cell_type": "code",
   "execution_count": 6,
   "metadata": {
    "collapsed": true
   },
   "outputs": [],
   "source": [
    "def create_model(sess, forward_only):\n",
    "    model = seq2seq_model.Seq2SeqModel(20000,\n",
    "                                       20000,\n",
    "                                       _buckets, \n",
    "                                       128,\n",
    "                                       3,\n",
    "                                       5.0,\n",
    "                                       32,\n",
    "                                       0.5,\n",
    "                                       0.99,\n",
    "                                       forward_only=forward_only)\n",
    "\n",
    "    ckpt = tf.train.get_checkpoint_state('./working_dir')\n",
    "    if ckpt and tf.gfile.Exists(ckpt.model_checkpoint_path):\n",
    "        print(\"Reading model parameters from %s\" % ckpt.model_checkpoint_path)\n",
    "        model.saver.restore(session, ckpt.model_checkpoint_path)\n",
    "    else:\n",
    "        print(\"Created model with fresh parameters.\")\n",
    "        sess.run(tf.initialize_all_variables())\n",
    "    return model"
   ]
  },
  {
   "cell_type": "code",
   "execution_count": 7,
   "metadata": {
    "collapsed": false
   },
   "outputs": [
    {
     "name": "stdout",
     "output_type": "stream",
     "text": [
      "Creating 3 layers of 128 units.\n"
     ]
    }
   ],
   "source": [
    "config = tf.ConfigProto() \n",
    "\n",
    "sess = tf.InteractiveSession(config=config)\n",
    "print(\"Creating 3 layers of 128 units.\")"
   ]
  },
  {
   "cell_type": "code",
   "execution_count": 8,
   "metadata": {
    "collapsed": false
   },
   "outputs": [
    {
     "name": "stdout",
     "output_type": "stream",
     "text": [
      "Created model with fresh parameters.\n"
     ]
    }
   ],
   "source": [
    "model = create_model(sess, False)"
   ]
  },
  {
   "cell_type": "code",
   "execution_count": 9,
   "metadata": {
    "collapsed": false
   },
   "outputs": [
    {
     "name": "stdout",
     "output_type": "stream",
     "text": [
      "  reading data line 100000\n"
     ]
    }
   ],
   "source": [
    "dev_set = read_data(enc_dev, dec_dev)\n",
    "train_set = read_data(enc_train, dec_train, 0)\n",
    "train_bucket_sizes = [len(train_set[b]) for b in xrange(len(_buckets))]\n",
    "train_total_size = float(sum(train_bucket_sizes))"
   ]
  },
  {
   "cell_type": "code",
   "execution_count": 10,
   "metadata": {
    "collapsed": true
   },
   "outputs": [],
   "source": [
    "train_buckets_scale = [sum(train_bucket_sizes[:i + 1]) / train_total_size\n",
    "                           for i in xrange(len(train_bucket_sizes))]"
   ]
  },
  {
   "cell_type": "code",
   "execution_count": 11,
   "metadata": {
    "collapsed": true
   },
   "outputs": [],
   "source": [
    "step_time, loss = 0.0, 0.0\n",
    "current_step = 0\n",
    "previous_losses = []"
   ]
  },
  {
   "cell_type": "code",
   "execution_count": 13,
   "metadata": {
    "collapsed": false
   },
   "outputs": [
    {
     "name": "stdout",
     "output_type": "stream",
     "text": [
      "global step 61 learning rate 0.5000 step-time 0.46 perplexity 330.50\n",
      "  eval: bucket 0 perplexity 151.74\n",
      "  eval: bucket 1 perplexity 198.26\n",
      "  eval: bucket 2 perplexity 448.60\n",
      "  eval: bucket 3 perplexity 248.53\n",
      "global step 91 learning rate 0.5000 step-time 0.51 perplexity 373.81\n",
      "  eval: bucket 0 perplexity 91.28\n",
      "  eval: bucket 1 perplexity 226.17\n",
      "  eval: bucket 2 perplexity 534.05\n",
      "  eval: bucket 3 perplexity 655.43\n",
      "global step 121 learning rate 0.5000 step-time 0.47 perplexity 286.37\n",
      "  eval: bucket 0 perplexity 220.41\n",
      "  eval: bucket 1 perplexity 349.38\n",
      "  eval: bucket 2 perplexity 303.70\n",
      "  eval: bucket 3 perplexity 381.85\n",
      "global step 151 learning rate 0.5000 step-time 0.42 perplexity 222.04\n",
      "  eval: bucket 0 perplexity 90.25\n",
      "  eval: bucket 1 perplexity 148.89\n",
      "  eval: bucket 2 perplexity 192.33\n",
      "  eval: bucket 3 perplexity 166.89\n",
      "global step 181 learning rate 0.5000 step-time 0.55 perplexity 209.04\n",
      "  eval: bucket 0 perplexity 66.62\n",
      "  eval: bucket 1 perplexity 135.74\n",
      "  eval: bucket 2 perplexity 201.72\n",
      "  eval: bucket 3 perplexity 213.83\n",
      "global step 211 learning rate 0.5000 step-time 0.51 perplexity 204.28\n",
      "  eval: bucket 0 perplexity 408.98\n",
      "  eval: bucket 1 perplexity 267.98\n",
      "  eval: bucket 2 perplexity 310.36\n",
      "  eval: bucket 3 perplexity 300.66\n",
      "global step 241 learning rate 0.5000 step-time 0.60 perplexity 175.43\n",
      "  eval: bucket 0 perplexity 92.01\n",
      "  eval: bucket 1 perplexity 91.23\n",
      "  eval: bucket 2 perplexity 153.23\n",
      "  eval: bucket 3 perplexity 220.90\n",
      "global step 271 learning rate 0.5000 step-time 0.59 perplexity 160.30\n",
      "  eval: bucket 0 perplexity 119.49\n",
      "  eval: bucket 1 perplexity 176.44\n",
      "  eval: bucket 2 perplexity 207.39\n",
      "  eval: bucket 3 perplexity 190.01\n",
      "global step 301 learning rate 0.5000 step-time 0.47 perplexity 156.09\n",
      "  eval: bucket 0 perplexity 78.50\n",
      "  eval: bucket 1 perplexity 84.47\n",
      "  eval: bucket 2 perplexity 123.73\n",
      "  eval: bucket 3 perplexity 205.78\n"
     ]
    }
   ],
   "source": [
    "while current_step < 300:\n",
    "    # Choose a bucket according to data distribution. We pick a random number\n",
    "    # in [0, 1] and use the corresponding interval in train_buckets_scale.\n",
    "    random_number_01 = np.random.random_sample()\n",
    "    bucket_id = min([i for i in xrange(len(train_buckets_scale))\n",
    "                   if train_buckets_scale[i] > random_number_01])\n",
    "\n",
    "    # Get a batch and make a step.\n",
    "    start_time = time.time()\n",
    "    encoder_inputs, decoder_inputs, target_weights = model.get_batch(\n",
    "      train_set, bucket_id)\n",
    "    _, step_loss, _ = model.step(sess, encoder_inputs, decoder_inputs,\n",
    "                               target_weights, bucket_id, False)\n",
    "    step_time += (time.time() - start_time) / 30\n",
    "    loss += step_loss / 30\n",
    "    current_step += 1\n",
    "\n",
    "    # Once in a while, we save checkpoint, print statistics, and run evals.\n",
    "    if current_step % 30 == 0:\n",
    "        # Print statistics for the previous epoch.\n",
    "        perplexity = math.exp(loss) if loss < 300 else float('inf')\n",
    "        print (\"global step %d learning rate %.4f step-time %.2f perplexity \"\n",
    "               \"%.2f\" % (model.global_step.eval(), model.learning_rate.eval(),\n",
    "                         step_time, perplexity))\n",
    "        # Decrease learning rate if no improvement was seen over last 3 times.\n",
    "        if len(previous_losses) > 2 and loss > max(previous_losses[-3:]):\n",
    "            sess.run(model.learning_rate_decay_op)\n",
    "        previous_losses.append(loss)\n",
    "        # Save checkpoint and zero timer and loss.\n",
    "        checkpoint_path = os.path.join('./working_dir', \"seq2seq.ckpt\")\n",
    "        model.saver.save(sess, checkpoint_path, global_step=model.global_step)\n",
    "        step_time, loss = 0.0, 0.0\n",
    "        # Run evals on development set and print their perplexity.\n",
    "        for bucket_id in xrange(len(_buckets)):\n",
    "            if len(dev_set[bucket_id]) == 0:\n",
    "                print(\"  eval: empty bucket %d\" % (bucket_id))\n",
    "                continue\n",
    "            encoder_inputs, decoder_inputs, target_weights = model.get_batch(\n",
    "              dev_set, bucket_id)\n",
    "            _, eval_loss, _ = model.step(sess, encoder_inputs, decoder_inputs,\n",
    "                                       target_weights, bucket_id, True)\n",
    "            eval_ppx = math.exp(eval_loss) if eval_loss < 300 else float('inf')\n",
    "            print(\"  eval: bucket %d perplexity %.2f\" % (bucket_id, eval_ppx))\n",
    "        sys.stdout.flush()\n",
    "        \n",
    "print('트레이닝이 완료되었습니다.')"
   ]
  },
  {
   "cell_type": "code",
   "execution_count": null,
   "metadata": {
    "collapsed": true
   },
   "outputs": [],
   "source": []
  }
 ],
 "metadata": {
  "kernelspec": {
   "display_name": "Python [conda root]",
   "language": "python",
   "name": "conda-root-py"
  },
  "language_info": {
   "codemirror_mode": {
    "name": "ipython",
    "version": 2
   },
   "file_extension": ".py",
   "mimetype": "text/x-python",
   "name": "python",
   "nbconvert_exporter": "python",
   "pygments_lexer": "ipython2",
   "version": "2.7.12"
  }
 },
 "nbformat": 4,
 "nbformat_minor": 1
}
