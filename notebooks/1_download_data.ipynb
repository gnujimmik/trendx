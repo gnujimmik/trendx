{
 "cells": [
  {
   "cell_type": "markdown",
   "metadata": {},
   "source": [
    "# 데이터 다운로드\n",
    "***\n",
    "1. 우선 데이터를 저장할 디렉토리(폴더)를 만듭니다.\n",
    "2. 트레이닝 데이터 및 테스트 데이터를 다운로드 하여 각각을 생성된 폴더에 저장합니다.\n",
    "3. 다운로드된 파일들이 잘 저장되어 있는지 확인합니다."
   ]
  },
  {
   "cell_type": "code",
   "execution_count": null,
   "metadata": {
    "collapsed": true
   },
   "outputs": [],
   "source": [
    "# 데이터를 저장할 폴더를 생성합니다.\n",
    "\n",
    "import os\n",
    "import shutil\n",
    "\n",
    "if os.path.exists('./data'):\n",
    "    shutil.rm('./data')\n",
    "os.makedirs('./data')"
   ]
  },
  {
   "cell_type": "code",
   "execution_count": null,
   "metadata": {
    "collapsed": true
   },
   "outputs": [],
   "source": [
    "# 이제부터 트레이닝 및 테스트 데이터를 각각 다운로드 합니다."
   ]
  },
  {
   "cell_type": "code",
   "execution_count": null,
   "metadata": {
    "collapsed": false
   },
   "outputs": [],
   "source": [
    "!wget -c -O - https://media.githubusercontent.com/media/suriyadeepan/datasets/master/seq2seq/cornell_movie_corpus/processed_data/train.enc > ./data/train.enc  "
   ]
  },
  {
   "cell_type": "code",
   "execution_count": null,
   "metadata": {
    "collapsed": false
   },
   "outputs": [],
   "source": [
    "!wget -c -O - https://media.githubusercontent.com/media/suriyadeepan/datasets/master/seq2seq/cornell_movie_corpus/processed_data/train.dec > ./data/train.dec "
   ]
  },
  {
   "cell_type": "code",
   "execution_count": null,
   "metadata": {
    "collapsed": false
   },
   "outputs": [],
   "source": [
    "!wget -c -O - https://media.githubusercontent.com/media/suriyadeepan/datasets/master/seq2seq/cornell_movie_corpus/processed_data/test.enc > ./data/test.enc "
   ]
  },
  {
   "cell_type": "code",
   "execution_count": null,
   "metadata": {
    "collapsed": false
   },
   "outputs": [],
   "source": [
    "!wget -c -O - https://media.githubusercontent.com/media/suriyadeepan/datasets/master/seq2seq/cornell_movie_corpus/processed_data/test.dec > ./data/test.dec "
   ]
  },
  {
   "cell_type": "code",
   "execution_count": null,
   "metadata": {
    "collapsed": false
   },
   "outputs": [],
   "source": [
    "#!ls -la ./data/"
   ]
  },
  {
   "cell_type": "markdown",
   "metadata": {},
   "source": [
    "***\n",
    "### 여기까지 학습을 위한 데이터는 모두 다운로드 되었습니다."
   ]
  }
 ],
 "metadata": {
  "anaconda-cloud": {},
  "kernelspec": {
   "display_name": "Python [conda root]",
   "language": "python",
   "name": "conda-root-py"
  },
  "language_info": {
   "codemirror_mode": {
    "name": "ipython",
    "version": 2
   },
   "file_extension": ".py",
   "mimetype": "text/x-python",
   "name": "python",
   "nbconvert_exporter": "python",
   "pygments_lexer": "ipython2",
   "version": "2.7.12"
  }
 },
 "nbformat": 4,
 "nbformat_minor": 1
}
